{
  "nbformat": 4,
  "nbformat_minor": 0,
  "metadata": {
    "colab": {
      "provenance": []
    },
    "kernelspec": {
      "name": "python3",
      "display_name": "Python 3"
    },
    "language_info": {
      "name": "python"
    }
  },
  "cells": [
    {
      "cell_type": "code",
      "execution_count": null,
      "metadata": {
        "id": "fhibGXLLHTxE"
      },
      "outputs": [],
      "source": [
        "import pandas as pd\n",
        "from sklearn.feature_extraction.text import TfidfVectorizer\n",
        "from sklearn.feature_extraction import text\n",
        "from sklearn.feature_extraction.text import ENGLISH_STOP_WORDS\n",
        "import spacy"
      ]
    },
    {
      "cell_type": "code",
      "source": [
        "df = pd.read_excel('Earnings call.xlsx')"
      ],
      "metadata": {
        "id": "B4MLn2btIaeI"
      },
      "execution_count": null,
      "outputs": []
    },
    {
      "cell_type": "code",
      "source": [
        "questions = df['Question']"
      ],
      "metadata": {
        "id": "5lXQOHJwIqfq"
      },
      "execution_count": null,
      "outputs": []
    },
    {
      "cell_type": "code",
      "source": [
        "preprocessed_questions = questions.str.lower().str.replace('[^\\w\\s]','')"
      ],
      "metadata": {
        "id": "J5cTduJ7Izms"
      },
      "execution_count": null,
      "outputs": []
    },
    {
      "cell_type": "code",
      "source": [
        "nlp = spacy.load(\"en_core_web_sm\", disable=[\"parser\", \"ner\"])"
      ],
      "metadata": {
        "id": "G05aBld-ZWOc"
      },
      "execution_count": null,
      "outputs": []
    },
    {
      "cell_type": "code",
      "source": [
        "def lemmatize_text(text):\n",
        "    doc = nlp(text)\n",
        "    return \" \".join([token.lemma_ for token in doc])"
      ],
      "metadata": {
        "id": "HZ7dcGJPZgX3"
      },
      "execution_count": null,
      "outputs": []
    },
    {
      "cell_type": "code",
      "source": [
        "lemmatized_questions = preprocessed_questions.apply(lemmatize_text)"
      ],
      "metadata": {
        "id": "ldZKxoowZj_7"
      },
      "execution_count": null,
      "outputs": []
    },
    {
      "cell_type": "code",
      "source": [
        "custom_stop_words = list(ENGLISH_STOP_WORDS)"
      ],
      "metadata": {
        "id": "9yZQf_UtUOCJ"
      },
      "execution_count": null,
      "outputs": []
    },
    {
      "cell_type": "code",
      "source": [
        "additional_stop_words = [\n",
        "    'little', 'bit', 'second', 'question', 'want', 'know', 'just', 'try',\n",
        "    'couple', 'number', 'year', 'follow', 'understand', 'like', 'curious','timo','time','exclude','press',\n",
        "    'wonder','cycle','comment'\n",
        "]"
      ],
      "metadata": {
        "id": "S4cIL8oWVPSn"
      },
      "execution_count": null,
      "outputs": []
    },
    {
      "cell_type": "code",
      "source": [
        "custom_stop_words += additional_stop_words"
      ],
      "metadata": {
        "id": "I1UNvlhgVXj2"
      },
      "execution_count": null,
      "outputs": []
    },
    {
      "cell_type": "code",
      "source": [
        "vectorizer = TfidfVectorizer(stop_words=custom_stop_words, ngram_range=(2, 2))\n"
      ],
      "metadata": {
        "id": "feSFBfRKJD3j"
      },
      "execution_count": null,
      "outputs": []
    },
    {
      "cell_type": "code",
      "source": [
        "tfidf_matrix = vectorizer.fit_transform(lemmatized_questions)"
      ],
      "metadata": {
        "id": "CxRXqamtJyDW"
      },
      "execution_count": null,
      "outputs": []
    },
    {
      "cell_type": "code",
      "source": [
        "tfidf_df = pd.DataFrame(tfidf_matrix.toarray(), columns=vectorizer.get_feature_names_out())"
      ],
      "metadata": {
        "id": "hLIX2wzZJ-Ze"
      },
      "execution_count": null,
      "outputs": []
    },
    {
      "cell_type": "code",
      "source": [
        "word_importance = tfidf_df.sum(axis=0).sort_values(ascending=False)"
      ],
      "metadata": {
        "id": "_uI7NJ-bKRGR"
      },
      "execution_count": null,
      "outputs": []
    },
    {
      "cell_type": "code",
      "source": [
        "print(word_importance.head(30))"
      ],
      "metadata": {
        "colab": {
          "base_uri": "https://localhost:8080/"
        },
        "id": "iqJ8rycsKbsJ",
        "outputId": "34c4c97d-a5e6-403a-dbb4-09308df7d5c5"
      },
      "execution_count": null,
      "outputs": [
        {
          "output_type": "stream",
          "name": "stdout",
          "text": [
            "process automation     2.108377\n",
            "discrete automation    1.835225\n",
            "supply chain           1.810222\n",
            "cash flow              1.799068\n",
            "energy efficiency      1.672365\n",
            "work capital           1.616088\n",
            "raw material           1.599145\n",
            "order intake           1.186916\n",
            "end market             1.186604\n",
            "robotic discrete       1.137566\n",
            "double digit           1.044430\n",
            "large order            0.970408\n",
            "applicable discrete    0.961436\n",
            "revenue growth         0.871736\n",
            "machine automation     0.855430\n",
            "automation business    0.839014\n",
            "sort margin            0.814224\n",
            "datum center           0.805618\n",
            "factory automation     0.796352\n",
            "free cash              0.788894\n",
            "medium voltage         0.783157\n",
            "new plant              0.756402\n",
            "oil gas                0.754477\n",
            "order growth           0.746931\n",
            "short business         0.740725\n",
            "order backlog          0.740454\n",
            "fully operational      0.735408\n",
            "margin ds              0.732725\n",
            "gross margin           0.719553\n",
            "balance sheet          0.717821\n",
            "dtype: float64\n"
          ]
        }
      ]
    }
  ]
}